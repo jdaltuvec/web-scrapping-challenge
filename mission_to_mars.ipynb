{
 "cells": [
  {
   "cell_type": "markdown",
   "metadata": {},
   "source": [
    "### Import dependencies"
   ]
  },
  {
   "cell_type": "code",
   "execution_count": 1,
   "metadata": {},
   "outputs": [],
   "source": [
    "import requests\n",
    "import pandas as pd\n",
    "from bs4 import BeautifulSoup\n",
    "from pprint import pprint"
   ]
  },
  {
   "cell_type": "markdown",
   "metadata": {},
   "source": [
    "### NASA Mars News"
   ]
  },
  {
   "cell_type": "code",
   "execution_count": 2,
   "metadata": {},
   "outputs": [],
   "source": [
    "nasa_news_r = requests.get(\"https://mars.nasa.gov/news/?page=0&per_page=40&order=publish_date+desc%2Ccreated_at+desc&search=&category=19%2C165%2C184%2C204&blank_scope=Latest\").text\n",
    "#nasa_news_r\n",
    "soup = BeautifulSoup(nasa_news_r, 'html.parser')\n",
    "#pprint(soup)"
   ]
  },
  {
   "cell_type": "code",
   "execution_count": 3,
   "metadata": {},
   "outputs": [
    {
     "data": {
      "text/plain": [
       "'Robotic spacecraft will be able to communicate with the dish using radio waves and lasers.'"
      ]
     },
     "execution_count": 3,
     "metadata": {},
     "output_type": "execute_result"
    }
   ],
   "source": [
    "# Scrape the [NASA Mars News Site](https://mars.nasa.gov/news/) and collect the latest News Title and Paragraph Text. \n",
    "# Assign the text to variables that you can reference later.\n",
    "news_title = soup.find_all('div', class_=\"content_title\")[0].text.replace(\"\\n\",\"\")\n",
    "news_p = soup.find_all('div', class_=\"rollover_description_inner\")[0].text.replace(\"\\n\",\"\")\n",
    "\n",
    "news_p"
   ]
  },
  {
   "cell_type": "markdown",
   "metadata": {},
   "source": [
    "### Space Images - Featured Image"
   ]
  },
  {
   "cell_type": "code",
   "execution_count": 4,
   "metadata": {},
   "outputs": [
    {
     "data": {
      "text/plain": [
       "'www.jpl.nasa.gov/spaceimages/images/mediumsize/PIA17462_ip.jpg'"
      ]
     },
     "execution_count": 4,
     "metadata": {},
     "output_type": "execute_result"
    }
   ],
   "source": [
    "# * Visit the url for JPL Featured Space Image [here](https://www.jpl.nasa.gov/spaceimages/?search=&category=Mars).\n",
    "# * Use requests to get the site and find the image url for the current Featured Mars Image and assign the url string to a variable called `featured_image_url`.\n",
    "jpl_mars_r = requests.get(\"https://www.jpl.nasa.gov/spaceimages/?search=&category=Mars\").text\n",
    "\n",
    "# * Make sure to find the image url to the full size `.jpg` image.\n",
    "\n",
    "# * Make sure to save a complete url string for this image.\n",
    "soup = BeautifulSoup(jpl_mars_r, 'html.parser')\n",
    "feaured_image_url = \"www.jpl.nasa.gov\" + soup.find_all('a', class_=\"fancybox\")[0][\"data-fancybox-href\"]\n",
    "feaured_image_url"
   ]
  },
  {
   "cell_type": "markdown",
   "metadata": {},
   "source": [
    "### Mars Weather"
   ]
  },
  {
   "cell_type": "code",
   "execution_count": 5,
   "metadata": {},
   "outputs": [],
   "source": [
    "# * Visit the Mars Weather twitter account [here](https://twitter.com/marswxreport?lang=en) \n",
    "# and scrape the latest Mars weather tweet from the page. Save the tweet text for the weather report \n",
    "# as a variable called `mars_weather`."
   ]
  },
  {
   "cell_type": "code",
   "execution_count": 6,
   "metadata": {},
   "outputs": [],
   "source": [
    "mars_weather_r = requests.get(\"https://twitter.com/marswxreport?lang=en\").text\n",
    "soup = BeautifulSoup(mars_weather_r, 'html.parser')\n",
    "#soup"
   ]
  },
  {
   "cell_type": "code",
   "execution_count": 7,
   "metadata": {},
   "outputs": [
    {
     "data": {
      "text/plain": [
       "'InSight sol 449 (2020-03-01) low -93.6ºC (-136.4ºF) high -11.3ºC (11.7ºF) winds from the SSW at 6.8 m/s (15.1 mph) gusting to 23.9 m/s (53.4 mph) pressure at 6.30 hPa'"
      ]
     },
     "execution_count": 7,
     "metadata": {},
     "output_type": "execute_result"
    }
   ],
   "source": [
    "mars_weather = soup.find_all('p', class_=\"TweetTextSize TweetTextSize--normal js-tweet-text tweet-text\")[0].text.replace(\"\\n\",\" \")[:-26]\n",
    "mars_weather"
   ]
  },
  {
   "cell_type": "markdown",
   "metadata": {},
   "source": [
    "### Mars Facts"
   ]
  },
  {
   "cell_type": "code",
   "execution_count": 8,
   "metadata": {},
   "outputs": [],
   "source": [
    "# * Visit the Mars Facts webpage [here](http://space-facts.com/mars/) and use Pandas to scrape \n",
    "# the table containing facts about the planet including Diameter, Mass, etc.\n",
    "\n",
    "# * Use Pandas to convert the data to a HTML table string"
   ]
  },
  {
   "cell_type": "code",
   "execution_count": 20,
   "metadata": {},
   "outputs": [
    {
     "data": {
      "text/plain": [
       "'<table border=\"1\" class=\"dataframe table\">\\n  <thead>\\n    <tr style=\"text-align: right;\">\\n      <th>Description</th>\\n      <th>Values</th>\\n    </tr>\\n  </thead>\\n  <tbody>\\n    <tr>\\n      <td>Equatorial Diameter:</td>\\n      <td>6,792 km</td>\\n    </tr>\\n    <tr>\\n      <td>Polar Diameter:</td>\\n      <td>6,752 km</td>\\n    </tr>\\n    <tr>\\n      <td>Mass:</td>\\n      <td>6.39 × 10^23 kg (0.11 Earths)</td>\\n    </tr>\\n    <tr>\\n      <td>Moons:</td>\\n      <td>2 (Phobos &amp; Deimos)</td>\\n    </tr>\\n    <tr>\\n      <td>Orbit Distance:</td>\\n      <td>227,943,824 km (1.38 AU)</td>\\n    </tr>\\n    <tr>\\n      <td>Orbit Period:</td>\\n      <td>687 days (1.9 years)</td>\\n    </tr>\\n    <tr>\\n      <td>Surface Temperature:</td>\\n      <td>-87 to -5 °C</td>\\n    </tr>\\n    <tr>\\n      <td>First Record:</td>\\n      <td>2nd millennium BC</td>\\n    </tr>\\n    <tr>\\n      <td>Recorded By:</td>\\n      <td>Egyptian astronomers</td>\\n    </tr>\\n  </tbody>\\n</table>'"
      ]
     },
     "execution_count": 20,
     "metadata": {},
     "output_type": "execute_result"
    }
   ],
   "source": [
    "mars_facts_df = pd.read_html(\"http://space-facts.com/mars/\")[0].rename(columns={0:\"Description\", 1:\"Values\"})\n",
    "mars_facts = mars_facts_df.to_html(index=False, header=True, classes=\"table\")\n",
    "mars_facts"
   ]
  },
  {
   "cell_type": "markdown",
   "metadata": {},
   "source": [
    "### Mars Hemispheres"
   ]
  },
  {
   "cell_type": "code",
   "execution_count": 590,
   "metadata": {},
   "outputs": [],
   "source": [
    "# * Visit the USGS Astrogeology site [here]\n",
    "# (https://astrogeology.usgs.gov/search/results?q=hemisphere+enhanced&k1=target&v1=Mars) \n",
    "# to obtain high resolution images for each of Mar's hemispheres.\n",
    "\n",
    "# * You will need to click each of the links to the hemispheres in order to find the image url \n",
    "# to the full resolution image.\n",
    "\n",
    "#  * Save both the image url string for the full resolution hemisphere image, and the Hemisphere title\n",
    "# containing the hemisphere name. Use a Python dictionary to store the data using the keys `img_url` and `title`.\n",
    "\n",
    "# * Append the dictionary with the image url string and the hemisphere title to a list. \n",
    "# This list will contain one dictionary for each hemisphere."
   ]
  },
  {
   "cell_type": "code",
   "execution_count": 591,
   "metadata": {},
   "outputs": [],
   "source": [
    "mars_hemispheres_r = requests.get(\"https://astrogeology.usgs.gov/search/results?q=hemisphere+enhanced&k1=target&v1=Mars\").text\n",
    "soup = BeautifulSoup(mars_hemispheres_r, 'html.parser')\n",
    "#pprint(soup)"
   ]
  },
  {
   "cell_type": "code",
   "execution_count": 592,
   "metadata": {},
   "outputs": [
    {
     "data": {
      "text/plain": [
       "[{'title': 'Cerberus Hemispher',\n",
       "  'img_url': 'https://astropedia.astrogeology.usgs.gov/download/Mars/Viking/cerberus_enhanced.tif/full.jpg'},\n",
       " {'title': 'Schiaparelli Hemispher',\n",
       "  'img_url': 'https://astropedia.astrogeology.usgs.gov/download/Mars/Viking/schiaparelli_enhanced.tif/full.jpg'},\n",
       " {'title': 'Syrtis Major Hemispher',\n",
       "  'img_url': 'https://astropedia.astrogeology.usgs.gov/download/Mars/Viking/syrtis_major_enhanced.tif/full.jpg'},\n",
       " {'title': 'Valles Marineris Hemispher',\n",
       "  'img_url': 'https://astropedia.astrogeology.usgs.gov/download/Mars/Viking/valles_marineris_enhanced.tif/full.jpg'}]"
      ]
     },
     "execution_count": 592,
     "metadata": {},
     "output_type": "execute_result"
    }
   ],
   "source": [
    "hemispheres = [{'title': e.text.strip(' Enhanced'), 'img_url':(\"https://\" + \"astropedia.\" + \"astrogeology.usgs.gov\" + e['href'] + '.tif/full.jpg').replace(\"search/map\", \"download\")} for e in soup.find_all(class_=\"itemLink product-item\")]\n",
    "hemispheres"
   ]
  },
  {
   "cell_type": "code",
   "execution_count": null,
   "metadata": {},
   "outputs": [],
   "source": []
  }
 ],
 "metadata": {
  "kernelspec": {
   "display_name": "Python 3.7.1 64-bit",
   "language": "python",
   "name": "python37164bita4b504092bb149d184229fdc58bd125e"
  },
  "language_info": {
   "codemirror_mode": {
    "name": "ipython",
    "version": 3
   },
   "file_extension": ".py",
   "mimetype": "text/x-python",
   "name": "python",
   "nbconvert_exporter": "python",
   "pygments_lexer": "ipython3",
   "version": "3.7.1"
  }
 },
 "nbformat": 4,
 "nbformat_minor": 2
}
